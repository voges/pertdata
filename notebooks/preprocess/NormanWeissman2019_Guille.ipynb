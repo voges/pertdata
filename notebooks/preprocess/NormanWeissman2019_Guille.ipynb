{
 "cells": [
  {
   "cell_type": "markdown",
   "metadata": {},
   "source": [
    "DOI: 10.1126/science.aax4438"
   ]
  },
  {
   "cell_type": "code",
   "execution_count": null,
   "metadata": {},
   "outputs": [],
   "source": [
    "import gzip\n",
    "import os\n",
    "import shutil\n",
    "import tempfile\n",
    "\n",
    "import scanpy as sc\n",
    "\n",
    "from pertdata import cache_dir_path\n",
    "from pertdata.utils import download_file"
   ]
  },
  {
   "cell_type": "code",
   "execution_count": null,
   "metadata": {},
   "outputs": [],
   "source": [
    "name = \"NormanWeissman2019_Guille\"\n",
    "dir_path = name\n",
    "os.makedirs(name=dir_path, exist_ok=True)"
   ]
  },
  {
   "cell_type": "markdown",
   "metadata": {},
   "source": [
    "Download the raw data:"
   ]
  },
  {
   "cell_type": "code",
   "execution_count": null,
   "metadata": {},
   "outputs": [],
   "source": [
    "urls = [\n",
    "    \"https://www.ncbi.nlm.nih.gov/geo/download/?acc=GSE133344&format=file&file=GSE133344%5Fraw%5Fbarcodes%2Etsv%2Egz\",\n",
    "    \"https://www.ncbi.nlm.nih.gov/geo/download/?acc=GSE133344&format=file&file=GSE133344%5Fraw%5Fcell%5Fidentities%2Ecsv%2Egz\",\n",
    "    \"https://www.ncbi.nlm.nih.gov/geo/download/?acc=GSE133344&format=file&file=GSE133344%5Fraw%5Fgenes%2Etsv%2Egz\",\n",
    "    \"https://ftp.ncbi.nlm.nih.gov/geo/series/GSE133nnn/GSE133344/suppl/GSE133344%5Fraw%5Fmatrix%2Emtx%2Egz\",\n",
    "]\n",
    "\n",
    "filenames = [\n",
    "    \"raw_barcodes.tsv.gz\",\n",
    "    \"raw_cell_identities.csv.gz\",\n",
    "    \"raw_genes.tsv.gz\",\n",
    "    \"raw_matrix.mtx.gz\",\n",
    "]\n",
    "\n",
    "for url, filename in zip(urls, filenames):\n",
    "    download_file(url=url, path=os.path.join(dir_path, filename))"
   ]
  },
  {
   "cell_type": "markdown",
   "metadata": {},
   "source": [
    "We need to rename `raw_genes.tsv.gz` to `raw_features.tsv.gz`, because the function `scanpy.read_10x_mtx` expects the file to be named `raw_features.tsv.gz`.\n",
    "We make a copy and keep `raw_genes.tsv.gz` to avoid duplicate downloads."
   ]
  },
  {
   "cell_type": "code",
   "execution_count": null,
   "metadata": {},
   "outputs": [],
   "source": [
    "shutil.copy2(\n",
    "    src=os.path.join(dir_path, \"raw_genes.tsv.gz\"),\n",
    "    dst=os.path.join(dir_path, \"raw_features.tsv.gz\"),\n",
    ")"
   ]
  },
  {
   "cell_type": "markdown",
   "metadata": {},
   "source": [
    "Also, the `raw_features.tsv.gz` file needs to have a third column with the value `Gene Expression`."
   ]
  },
  {
   "cell_type": "code",
   "execution_count": null,
   "metadata": {},
   "outputs": [],
   "source": [
    "raw_features_file_path = os.path.join(dir_path, \"raw_features.tsv.gz\")\n",
    "\n",
    "with gzip.open(filename=raw_features_file_path, mode=\"rt\") as input_file:\n",
    "    lines = input_file.readlines()\n",
    "    if not lines[0].strip().endswith(\"Gene Expression\"):\n",
    "        with tempfile.NamedTemporaryFile() as temp_file:\n",
    "            temp_file_path = temp_file.name\n",
    "            with gzip.open(filename=temp_file_path, mode=\"wt\") as output_file:\n",
    "                for line in lines:\n",
    "                    line = line.strip() + \"\\tGene Expression\\n\"\n",
    "                    output_file.write(line)\n",
    "            shutil.copy2(src=temp_file_path, dst=raw_features_file_path)"
   ]
  },
  {
   "cell_type": "markdown",
   "metadata": {},
   "source": [
    "Load the data:"
   ]
  },
  {
   "cell_type": "code",
   "execution_count": null,
   "metadata": {},
   "outputs": [],
   "source": [
    "adata = sc.read_10x_mtx(path=dir_path, var_names=\"gene_ids\", cache=False, prefix=\"raw_\")"
   ]
  },
  {
   "cell_type": "markdown",
   "metadata": {},
   "source": [
    "Save the data to an H5AD file:"
   ]
  },
  {
   "cell_type": "code",
   "execution_count": null,
   "metadata": {},
   "outputs": [],
   "source": [
    "h5ad_file_path = os.path.join(dir_path, \"adata.h5ad\")\n",
    "adata.write(filename=h5ad_file_path)"
   ]
  },
  {
   "cell_type": "markdown",
   "metadata": {},
   "source": [
    "Copy the H5AD file to the cache directory:"
   ]
  },
  {
   "cell_type": "code",
   "execution_count": null,
   "metadata": {},
   "outputs": [],
   "source": [
    "dataset_dir_path = os.path.join(cache_dir_path(), name)\n",
    "os.makedirs(name=dataset_dir_path, exist_ok=True)\n",
    "shutil.copy2(\n",
    "    src=h5ad_file_path,\n",
    "    dst=os.path.join(dataset_dir_path, \"adata.h5ad\"),\n",
    ")"
   ]
  }
 ],
 "metadata": {
  "kernelspec": {
   "display_name": "Python 3",
   "language": "python",
   "name": "python3"
  },
  "language_info": {
   "codemirror_mode": {
    "name": "ipython",
    "version": 3
   },
   "file_extension": ".py",
   "mimetype": "text/x-python",
   "name": "python",
   "nbconvert_exporter": "python",
   "pygments_lexer": "ipython3",
   "version": "3.12.7"
  }
 },
 "nbformat": 4,
 "nbformat_minor": 2
}
