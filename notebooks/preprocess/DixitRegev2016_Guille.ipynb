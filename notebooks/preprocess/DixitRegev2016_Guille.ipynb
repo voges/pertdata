{
 "cells": [
  {
   "cell_type": "code",
   "execution_count": null,
   "metadata": {},
   "outputs": [],
   "source": [
    "import os\n",
    "\n",
    "import anndata as ad\n",
    "import pandas as pd\n",
    "import scanpy as sc"
   ]
  },
  {
   "cell_type": "markdown",
   "metadata": {},
   "source": [
    "Make directories:"
   ]
  },
  {
   "cell_type": "code",
   "execution_count": null,
   "metadata": {},
   "outputs": [],
   "source": [
    "dataset_name = \"DixitRegev2016\"\n",
    "dataset_dir_path = dataset_name\n",
    "raw_dir_path = os.path.join(dataset_dir_path, \"raw\")\n",
    "processed_dir_path = os.path.join(dataset_dir_path, \"processed\")\n",
    "\n",
    "os.makedirs(name=dataset_dir_path)\n",
    "os.makedirs(name=raw_dir_path)\n",
    "os.makedirs(name=processed_dir_path)"
   ]
  },
  {
   "cell_type": "markdown",
   "metadata": {},
   "source": [
    "Download the raw data:"
   ]
  },
  {
   "cell_type": "code",
   "execution_count": null,
   "metadata": {},
   "outputs": [],
   "source": [
    "download_and_extract_tar_file(\n",
    "    url=\"https://www.ncbi.nlm.nih.gov/geo/download/?acc=GSE90063&format=file\",\n",
    "    dir_path=dir_path,\n",
    ")"
   ]
  },
  {
   "cell_type": "markdown",
   "metadata": {},
   "source": [
    "There are several experiments in the Dixit dataset. GEARS only uses two of the\n",
    "    experiments, whose files have the following prefixes:\n",
    "        1. GSM2396858_k562_tfs_7\n",
    "        2. GSM2396861_k562_ccycle"
   ]
  },
  {
   "cell_type": "code",
   "execution_count": null,
   "metadata": {},
   "outputs": [],
   "source": [
    "def load_raw_data_experiment(prefix: str, dir_path: str) -> sc.AnnData:\n",
    "    \"\"\"Load the raw data for a specific experiment.\n",
    "\n",
    "    Args:\n",
    "        prefix: The prefix of the files for the experiment.\n",
    "        dir_path: The directory path where the raw data is stored.\n",
    "\n",
    "    Returns:\n",
    "        The AnnData object.\n",
    "    \"\"\"\n",
    "    # Make the file paths.\n",
    "    mtx_file_path = os.path.join(dir_path, f\"{prefix}.mtx.txt.gz\")\n",
    "    genenames_file_path = os.path.join(dir_path, f\"{prefix}_genenames.csv.gz\")\n",
    "    cellnames_file_path = os.path.join(dir_path, f\"{prefix}_cellnames.csv.gz\")\n",
    "\n",
    "    # Load the data.\n",
    "    adata = sc.read_mtx(filename=mtx_file_path).transpose()\n",
    "\n",
    "    # Set the gene identifiers.\n",
    "    gene_names = pd.read_csv(filepath_or_buffer=genenames_file_path, index_col=0)\n",
    "    gene_ids = gene_names[\"0\"].str.split(\"_\").str[0]  # Extract only the gene IDs.\n",
    "    adata.var_names = gene_ids\n",
    "\n",
    "    # Set the cell identifiers.\n",
    "    cell_names = pd.read_csv(filepath_or_buffer=cellnames_file_path, index_col=0)\n",
    "    cell_ids = cell_names[\"0\"]\n",
    "    adata.obs_names = cell_ids\n",
    "\n",
    "    return adata"
   ]
  },
  {
   "cell_type": "code",
   "execution_count": null,
   "metadata": {},
   "outputs": [],
   "source": [
    "adata_tfs_7 = _load_raw_data_experiment(\n",
    "        prefix=\"GSM2396858_k562_tfs_7\", dir_path=dir_path\n",
    "    )\n",
    "    adata_ccycle = _load_raw_data_experiment(\n",
    "        prefix=\"GSM2396861_k562_ccycle\", dir_path=dir_path\n",
    "    )\n",
    "    adata_combined = ad.concat([adata_tfs_7, adata_ccycle], join=\"outer\")"
   ]
  }
 ],
 "metadata": {
  "kernelspec": {
   "display_name": "Python 3",
   "language": "python",
   "name": "python3"
  },
  "language_info": {
   "codemirror_mode": {
    "name": "ipython",
    "version": 3
   },
   "file_extension": ".py",
   "mimetype": "text/x-python",
   "name": "python",
   "nbconvert_exporter": "python",
   "pygments_lexer": "ipython3",
   "version": "3.12.7"
  }
 },
 "nbformat": 4,
 "nbformat_minor": 2
}
