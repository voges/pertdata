{
 "cells": [
  {
   "cell_type": "markdown",
   "metadata": {},
   "source": [
    "Replogle et al., 2020\n",
    "https://doi.org/10.1038/s41587-020-0470-y"
   ]
  },
  {
   "cell_type": "code",
   "execution_count": null,
   "metadata": {},
   "outputs": [],
   "source": [
    "import os\n",
    "\n",
    "from shared import download_file\n",
    "\n",
    "\n",
    "def download_raw_data(dir_path: str) -> None:\n",
    "    \"\"\"Download the raw data.\n",
    "\n",
    "    Args:\n",
    "        dir_path: The directory path where the raw data will be stored.\n",
    "    \"\"\"\n",
    "    download_file(\n",
    "        url=\"https://www.ncbi.nlm.nih.gov/geo/download/?acc=GSE146194&format=file\",\n",
    "        path=os.path.join(dir_path, \"GSE146194_RAW.tar\"),\n",
    "    )"
   ]
  },
  {
   "cell_type": "code",
   "execution_count": null,
   "metadata": {},
   "outputs": [],
   "source": [
    "dataset_dir_path = \"replogle2020/raw\"\n",
    "os.makedirs(name=dataset_dir_path, exist_ok=False)\n",
    "download_raw_data(dir_path=dataset_dir_path)"
   ]
  },
  {
   "cell_type": "code",
   "execution_count": null,
   "metadata": {},
   "outputs": [],
   "source": [
    "import tarfile\n",
    "\n",
    "# Replace 'filename.tar.gz' with your tar file name\n",
    "tar_file = \"replogle2020/raw/GSE146194_RAW.tar\"\n",
    "target_dir_path = \"replogle2020/raw/extracted\"\n",
    "\n",
    "# Open the tar file\n",
    "with tarfile.open(tar_file, \"r\") as tar:\n",
    "    # Extract all contents to the current directory\n",
    "    tar.extractall(path=target_dir_path)"
   ]
  },
  {
   "cell_type": "code",
   "execution_count": null,
   "metadata": {},
   "outputs": [],
   "source": [
    "# Rename *matrix.mtx.gz to *.mtx.gz"
   ]
  },
  {
   "cell_type": "code",
   "execution_count": 20,
   "metadata": {},
   "outputs": [
    {
     "name": "stdout",
     "output_type": "stream",
     "text": [
      "WARNING: Your filename has more than two extensions: ['.matrix', '.mtx', '.gz'].\n",
      "Only considering the two last: ['.mtx', '.gz'].\n",
      "WARNING: Your filename has more than two extensions: ['.matrix', '.mtx', '.gz'].\n",
      "Only considering the two last: ['.mtx', '.gz'].\n"
     ]
    }
   ],
   "source": [
    "import scanpy as sc\n",
    "\n",
    "adata = sc.read_10x_mtx(\n",
    "    path=target_dir_path, var_names=\"gene_ids\", cache=False, prefix=\"GSM4367989_exp11.\"\n",
    ")"
   ]
  },
  {
   "cell_type": "code",
   "execution_count": 21,
   "metadata": {},
   "outputs": [
    {
     "name": "stdout",
     "output_type": "stream",
     "text": [
      "AnnData object with n_obs × n_vars = 204520 × 33694\n",
      "    var: 'gene_symbols', 'feature_types'\n"
     ]
    }
   ],
   "source": [
    "print(adata)"
   ]
  },
  {
   "cell_type": "code",
   "execution_count": 23,
   "metadata": {},
   "outputs": [
    {
     "name": "stdout",
     "output_type": "stream",
     "text": [
      "Saving the preprocessed data to: replogle2020/raw/preprocessed/adata.h5ad\n"
     ]
    }
   ],
   "source": [
    "# Save the data to an H5AD file.\n",
    "os.makedirs(name=os.path.join(dataset_dir_path, \"preprocessed\"), exist_ok=False)\n",
    "h5ad_file_path = os.path.join(dataset_dir_path, \"preprocessed\", \"adata.h5ad\")\n",
    "print(f\"Saving the preprocessed data to: {h5ad_file_path}\")\n",
    "adata.write(filename=h5ad_file_path)"
   ]
  },
  {
   "cell_type": "code",
   "execution_count": null,
   "metadata": {},
   "outputs": [],
   "source": [
    "def download_raw_data(dir_path: str) -> None:  # noqa: D103\n",
    "    download_file(\n",
    "        url=\"https://www.ncbi.nlm.nih.gov/geo/download/?acc=GSE146194&format=file\",\n",
    "        path=os.path.join(dir_path, \"GSE146194_RAW.tar\"),\n",
    "    )\n",
    "\n",
    "\n",
    "def load_raw_data(dir_path: str) -> None:  # noqa: D103\n",
    "    # # Extract the tar file.\n",
    "    tar_file_path = os.path.join(dir_path, \"GSE146194_RAW.tar\")\n",
    "    extract_dir_path = os.path.join(dir_path, \"GSE146194_RAW\")\n",
    "    with tarfile.open(name=tar_file_path, mode=\"r\") as tar:\n",
    "        tar.extractall(path=extract_dir_path)\n",
    "\n",
    "    # Load the data.\n",
    "    adata = sc.read_10x_mtx(\n",
    "        path=extract_dir_path,\n",
    "        var_names=\"gene_ids\",\n",
    "        cache=False,\n",
    "        prefix=\"GSM4367985_exp7.\",\n",
    "    )\n",
    "\n",
    "    # Add info from the \"*_cell_identities.csv.gz\" file to the AnnData object.\n",
    "    cell_identities_file_path = os.path.join(\n",
    "        extract_dir_path, \"GSM4367985_exp7.cell_identities.csv.gz\"\n",
    "    )\n",
    "    barcodes_file_path = os.path.join(\n",
    "        extract_dir_path, \"GSM4367985_exp7.barcodes.tsv.gz\"\n",
    "    )\n",
    "    with gzip.open(cell_identities_file_path, mode=\"r\") as cell_identities_file:\n",
    "        cell_identities_df = pd.read_csv(filepath_or_buffer=cell_identities_file)\n",
    "        with gzip.open(barcodes_file_path, mode=\"r\") as barcodes_file:\n",
    "            barcodes_df = pd.read_csv(\n",
    "                filepath_or_buffer=barcodes_file, header=None, names=[\"cell_barcode\"]\n",
    "            )\n",
    "            merged_df = pd.merge(\n",
    "                left=barcodes_df,\n",
    "                right=cell_identities_df,\n",
    "                on=\"cell_barcode\",\n",
    "                how=\"left\",\n",
    "            )\n",
    "\n",
    "    # Ensure the merged_df index matches the obs_names of adata.\n",
    "    merged_df.set_index(\"cell_barcode\", inplace=True)\n",
    "\n",
    "    # Convert all columns to strings.\n",
    "    merged_df = merged_df.astype(str)\n",
    "\n",
    "    # Add the merged_df as obs to adata.\n",
    "    adata.obs = merged_df"
   ]
  }
 ],
 "metadata": {
  "kernelspec": {
   "display_name": "Python 3",
   "language": "python",
   "name": "python3"
  },
  "language_info": {
   "codemirror_mode": {
    "name": "ipython",
    "version": 3
   },
   "file_extension": ".py",
   "mimetype": "text/x-python",
   "name": "python",
   "nbconvert_exporter": "python",
   "pygments_lexer": "ipython3",
   "version": "3.12.7"
  }
 },
 "nbformat": 4,
 "nbformat_minor": 2
}
