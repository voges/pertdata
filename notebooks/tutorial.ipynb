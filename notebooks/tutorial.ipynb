{
 "cells": [
  {
   "cell_type": "markdown",
   "metadata": {},
   "source": [
    "# Tutorial"
   ]
  },
  {
   "cell_type": "code",
   "execution_count": 5,
   "metadata": {},
   "outputs": [],
   "source": [
    "import json\n",
    "\n",
    "import pertdata"
   ]
  },
  {
   "cell_type": "markdown",
   "metadata": {},
   "source": [
    "Show available datasets:"
   ]
  },
  {
   "cell_type": "code",
   "execution_count": 6,
   "metadata": {},
   "outputs": [
    {
     "name": "stdout",
     "output_type": "stream",
     "text": [
      "Available datasets:\n",
      "  DixitRegev2016\n",
      "  NormanWeissman2019_filtered\n",
      "  ReplogleWeissman2022_K562_essential\n",
      "  ReplogleWeissman2022_rpe1\n",
      "  adamson\n",
      "  dixit\n",
      "  norman\n",
      "  replogle_k562_essential\n",
      "  replogle_rpe1_essential\n",
      "  wessel_dataset\n"
     ]
    }
   ],
   "source": [
    "datasets_dict = pertdata.datasets()\n",
    "print(\"Available datasets:\")\n",
    "for key in datasets_dict.keys():\n",
    "    print(f\"  {key}\")"
   ]
  },
  {
   "cell_type": "markdown",
   "metadata": {},
   "source": [
    "Show details for a specific dataset:"
   ]
  },
  {
   "cell_type": "code",
   "execution_count": 7,
   "metadata": {},
   "outputs": [
    {
     "name": "stdout",
     "output_type": "stream",
     "text": [
      "Details for 'DixitRegev2016':\n",
      "{\n",
      "  \"name\": \"DixitRegev2016\",\n",
      "  \"info\": \"\",\n",
      "  \"publication\": {\n",
      "    \"doi\": \"10.1016/j.cell.2016.11.038\"\n",
      "  },\n",
      "  \"repository\": \"scPerturb\",\n",
      "  \"url\": \"https://zenodo.org/record/7041849/files/DixitRegev2016.h5ad\"\n",
      "}\n"
     ]
    }
   ],
   "source": [
    "selected_dataset = \"DixitRegev2016\"\n",
    "print(f\"Details for '{selected_dataset}':\")\n",
    "print(json.dumps(datasets_dict[selected_dataset], indent=2))"
   ]
  },
  {
   "cell_type": "markdown",
   "metadata": {},
   "source": [
    "Load data with the `PertDataset` class:"
   ]
  },
  {
   "cell_type": "code",
   "execution_count": 8,
   "metadata": {},
   "outputs": [
    {
     "name": "stdout",
     "output_type": "stream",
     "text": [
      "Downloading: https://zenodo.org/record/7041849/files/DixitRegev2016.h5ad -> /home/vscode/.cache/pertdata/DixitRegev2016/adata.h5ad\n",
      "Total size: 309,282,071 bytes\n"
     ]
    },
    {
     "name": "stderr",
     "output_type": "stream",
     "text": [
      "100%|██████████| 309M/309M [00:26<00:00, 11.6MiB/s] \n"
     ]
    },
    {
     "name": "stdout",
     "output_type": "stream",
     "text": [
      "Download completed: /home/vscode/.cache/pertdata/DixitRegev2016/adata.h5ad\n",
      "Loading: /home/vscode/.cache/pertdata/DixitRegev2016/adata.h5ad\n",
      "PertDataset object\n",
      "    name: DixitRegev2016\n",
      "    cache_dir_path: /home/vscode/.cache/pertdata\n",
      "    path: /home/vscode/.cache/pertdata/DixitRegev2016\n",
      "    adata: AnnData object with n_obs ✕ n_vars = 51898 ✕ 23529\n"
     ]
    }
   ],
   "source": [
    "pert_dataset = pertdata.PertDataset(name=selected_dataset, silent=False)\n",
    "print(pert_dataset)"
   ]
  }
 ],
 "metadata": {
  "kernelspec": {
   "display_name": "Python 3",
   "language": "python",
   "name": "python3"
  },
  "language_info": {
   "codemirror_mode": {
    "name": "ipython",
    "version": 3
   },
   "file_extension": ".py",
   "mimetype": "text/x-python",
   "name": "python",
   "nbconvert_exporter": "python",
   "pygments_lexer": "ipython3",
   "version": "3.12.7"
  }
 },
 "nbformat": 4,
 "nbformat_minor": 2
}
