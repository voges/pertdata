{
 "cells": [
  {
   "cell_type": "markdown",
   "metadata": {},
   "source": [
    "# Tutorial"
   ]
  },
  {
   "cell_type": "code",
   "execution_count": 1,
   "metadata": {},
   "outputs": [],
   "source": [
    "import json\n",
    "\n",
    "from pertdata import PertDataset, cache_dir_path, datasets"
   ]
  },
  {
   "cell_type": "markdown",
   "metadata": {},
   "source": [
    "Show available datasets:"
   ]
  },
  {
   "cell_type": "code",
   "execution_count": 2,
   "metadata": {},
   "outputs": [
    {
     "name": "stdout",
     "output_type": "stream",
     "text": [
      "Available datasets:\n",
      "  DixitRegev2016\n",
      "  NormanWeissman2019_filtered\n",
      "  ReplogleWeissman2022_K562_essential\n",
      "  ReplogleWeissman2022_rpe1\n",
      "  adamson\n",
      "  dixit\n",
      "  norman\n",
      "  replogle_k562_essential\n",
      "  replogle_rpe1_essential\n",
      "  wessel_dataset\n"
     ]
    }
   ],
   "source": [
    "datasets_dict = datasets()\n",
    "print(\"Available datasets:\")\n",
    "for key in datasets_dict.keys():\n",
    "    print(f\"  {key}\")"
   ]
  },
  {
   "cell_type": "markdown",
   "metadata": {},
   "source": [
    "Show the location of the cache directory:"
   ]
  },
  {
   "cell_type": "code",
   "execution_count": 3,
   "metadata": {},
   "outputs": [
    {
     "name": "stdout",
     "output_type": "stream",
     "text": [
      "Cache directory: /home/vscode/.cache/pertdata\n"
     ]
    }
   ],
   "source": [
    "print(f\"Cache directory: {cache_dir_path()}\")"
   ]
  },
  {
   "cell_type": "markdown",
   "metadata": {},
   "source": [
    "Show details for a specific dataset:"
   ]
  },
  {
   "cell_type": "code",
   "execution_count": 4,
   "metadata": {},
   "outputs": [
    {
     "name": "stdout",
     "output_type": "stream",
     "text": [
      "Details for 'NormanWeissman2019_filtered':\n",
      "{\n",
      "  \"name\": \"NormanWeissman2019_filtered\",\n",
      "  \"info\": \"\",\n",
      "  \"publication\": {\n",
      "    \"doi\": \"10.1126/science.aax4438\"\n",
      "  },\n",
      "  \"repository\": \"scPerturb\",\n",
      "  \"url\": \"https://zenodo.org/record/7041849/files/NormanWeissman2019_filtered.h5ad\"\n",
      "}\n"
     ]
    }
   ],
   "source": [
    "selected_dataset = \"NormanWeissman2019_filtered\"\n",
    "print(f\"Details for '{selected_dataset}':\")\n",
    "print(json.dumps(datasets_dict[selected_dataset], indent=2))"
   ]
  },
  {
   "cell_type": "markdown",
   "metadata": {},
   "source": [
    "Load data with the `PertDataset` class:"
   ]
  },
  {
   "cell_type": "code",
   "execution_count": 5,
   "metadata": {},
   "outputs": [
    {
     "name": "stdout",
     "output_type": "stream",
     "text": [
      "Dataset already cached: /home/vscode/.cache/pertdata/NormanWeissman2019_filtered\n",
      "Loading: /home/vscode/.cache/pertdata/NormanWeissman2019_filtered/adata.h5ad\n",
      "PertDataset object\n",
      "    name: NormanWeissman2019_filtered\n",
      "    path: /home/vscode/.cache/pertdata/NormanWeissman2019_filtered\n",
      "    adata: AnnData object with n_obs ✕ n_vars = 111445 ✕ 33694\n"
     ]
    }
   ],
   "source": [
    "NormanWeissman2019_filtered = PertDataset(name=\"NormanWeissman2019_filtered\")\n",
    "print(NormanWeissman2019_filtered)"
   ]
  }
 ],
 "metadata": {
  "kernelspec": {
   "display_name": "Python 3",
   "language": "python",
   "name": "python3"
  },
  "language_info": {
   "codemirror_mode": {
    "name": "ipython",
    "version": 3
   },
   "file_extension": ".py",
   "mimetype": "text/x-python",
   "name": "python",
   "nbconvert_exporter": "python",
   "pygments_lexer": "ipython3",
   "version": "3.12.7"
  }
 },
 "nbformat": 4,
 "nbformat_minor": 2
}
