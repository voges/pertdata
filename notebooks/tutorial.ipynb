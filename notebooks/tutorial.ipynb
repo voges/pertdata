{
 "cells": [
  {
   "cell_type": "markdown",
   "metadata": {},
   "source": [
    "# Tutorial"
   ]
  },
  {
   "cell_type": "markdown",
   "metadata": {},
   "source": [
    "Load data with the `PertDataset` class:"
   ]
  },
  {
   "cell_type": "code",
   "execution_count": 3,
   "metadata": {},
   "outputs": [
    {
     "name": "stdout",
     "output_type": "stream",
     "text": [
      "{\n",
      "    \"name\": \"NormanWeissman2019_filtered\",\n",
      "    \"publication\": {\n",
      "        \"doi\": \"10.1126/science.aax4438\"\n",
      "    },\n",
      "    \"data\": [\n",
      "        {\n",
      "            \"repository\": \"scPerturb\",\n",
      "            \"accession\": \"NormanWeissman2019_filtered\",\n",
      "            \"url\": \"https://zenodo.org/record/7041849/files/NormanWeissman2019_filtered.h5ad\"\n",
      "        },\n",
      "        {\n",
      "            \"repository\": \"GEARS\",\n",
      "            \"accession\": \"norman\",\n",
      "            \"url\": \"https://dataverse.harvard.edu/api/access/datafile/6154020\"\n",
      "        }\n",
      "    ]\n",
      "}\n",
      "Dataset already cached: /workspaces/pertdata/cache/NormanWeissman2019_filtered/GEARS\n",
      "Loading: /workspaces/pertdata/cache/NormanWeissman2019_filtered/GEARS/norman/perturb_processed.h5ad\n"
     ]
    }
   ],
   "source": [
    "from pertdata import PertDataset\n",
    "\n",
    "pdata = PertDataset(name=\"NormanWeissman2019_filtered\", repository=\"GEARS\")"
   ]
  },
  {
   "cell_type": "markdown",
   "metadata": {},
   "source": [
    "Investigate the data:"
   ]
  },
  {
   "cell_type": "code",
   "execution_count": 2,
   "metadata": {},
   "outputs": [
    {
     "name": "stdout",
     "output_type": "stream",
     "text": [
      "PertDataset object\n",
      "    name: NormanWeissman2019_filtered\n",
      "    repository: GEARS\n",
      "    path: /workspaces/pertdata/cache/NormanWeissman2019_filtered/GEARS\n",
      "    adata: AnnData object with n_obs ✕ n_vars = 91205 ✕ 5045\n",
      "Index(['condition', 'cell_type', 'dose_val', 'control', 'condition_name'], dtype='object')\n"
     ]
    }
   ],
   "source": [
    "print(pdata)\n",
    "print(pdata.adata.obs.columns)"
   ]
  },
  {
   "cell_type": "markdown",
   "metadata": {},
   "source": [
    "Process the embedded `AnnData`:"
   ]
  },
  {
   "cell_type": "code",
   "execution_count": null,
   "metadata": {},
   "outputs": [],
   "source": [
    "import scanpy as sc\n",
    "\n",
    "adata = pdata.adata\n",
    "\n",
    "# CPM normalization.\n",
    "sc.pp.normalize_total(adata=adata, target_sum=1e6, inplace=True)\n",
    "\n",
    "# Logarithmize the data matrix.\n",
    "sc.pp.log1p(adata)\n",
    "\n",
    "# Annotate highly variable genes (expects logarithmized data).\n",
    "sc.pp.highly_variable_genes(adata=adata, n_top_genes=5000, subset=True, inplace=True)"
   ]
  }
 ],
 "metadata": {
  "kernelspec": {
   "display_name": "Python 3",
   "language": "python",
   "name": "python3"
  },
  "language_info": {
   "codemirror_mode": {
    "name": "ipython",
    "version": 3
   },
   "file_extension": ".py",
   "mimetype": "text/x-python",
   "name": "python",
   "nbconvert_exporter": "python",
   "pygments_lexer": "ipython3",
   "version": "3.12.7"
  }
 },
 "nbformat": 4,
 "nbformat_minor": 2
}
