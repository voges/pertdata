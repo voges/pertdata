{
 "cells": [
  {
   "cell_type": "markdown",
   "metadata": {},
   "source": [
    "# Tutorial"
   ]
  },
  {
   "cell_type": "markdown",
   "metadata": {},
   "source": [
    "Get available datasets:"
   ]
  },
  {
   "cell_type": "code",
   "execution_count": 7,
   "metadata": {},
   "outputs": [
    {
     "name": "stdout",
     "output_type": "stream",
     "text": [
      "Available datasets:\n",
      "  DixitRegev2016\n",
      "  NormanWeissman2019_filtered\n",
      "  ReplogleNorman2020_E7\n",
      "  ReplogleWeissman2022_K562_essential\n",
      "  ReplogleWeissman2022_rpe1_essential\n",
      "  adamson\n",
      "  dixit\n",
      "  norman\n",
      "  replogle_k562_essential\n",
      "  replogle_rpe1_essential\n",
      "  wessel_dataset\n",
      "Details for 'NormanWeissman2019_filtered':\n",
      "{\n",
      "  \"name\": \"NormanWeissman2019_filtered\",\n",
      "  \"info\": \"\",\n",
      "  \"publication\": {\n",
      "    \"doi\": \"10.1126/science.aax4438\"\n",
      "  },\n",
      "  \"repository\": \"scPerturb\",\n",
      "  \"url\": \"https://zenodo.org/record/7041849/files/NormanWeissman2019_filtered.h5ad\"\n",
      "}\n"
     ]
    }
   ],
   "source": [
    "import json\n",
    "\n",
    "from pertdata import datasets\n",
    "\n",
    "datasets_dict = datasets()\n",
    "\n",
    "print(\"Available datasets:\")\n",
    "for key in datasets_dict.keys():\n",
    "    print(f\"  {key}\")\n",
    "\n",
    "selected_dataset = \"NormanWeissman2019_filtered\"\n",
    "print(f\"Details for '{selected_dataset}':\")\n",
    "print(json.dumps(datasets_dict[selected_dataset], indent=2))"
   ]
  },
  {
   "cell_type": "markdown",
   "metadata": {},
   "source": [
    "Load data with the `PertDataset` class:"
   ]
  },
  {
   "cell_type": "code",
   "execution_count": null,
   "metadata": {},
   "outputs": [],
   "source": [
    "from pertdata import PertDataset\n",
    "\n",
    "pdata = PertDataset(name=\"NormanWeissman2019_filtered\")"
   ]
  },
  {
   "cell_type": "markdown",
   "metadata": {},
   "source": [
    "Investigate the data:"
   ]
  },
  {
   "cell_type": "code",
   "execution_count": null,
   "metadata": {},
   "outputs": [],
   "source": [
    "print(pdata)\n",
    "print(pdata.adata.obs.columns)"
   ]
  }
 ],
 "metadata": {
  "kernelspec": {
   "display_name": "Python 3",
   "language": "python",
   "name": "python3"
  },
  "language_info": {
   "codemirror_mode": {
    "name": "ipython",
    "version": 3
   },
   "file_extension": ".py",
   "mimetype": "text/x-python",
   "name": "python",
   "nbconvert_exporter": "python",
   "pygments_lexer": "ipython3",
   "version": "3.12.7"
  }
 },
 "nbformat": 4,
 "nbformat_minor": 2
}
