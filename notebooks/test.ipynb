{
 "cells": [
  {
   "cell_type": "markdown",
   "metadata": {},
   "source": [
    "# Test"
   ]
  },
  {
   "cell_type": "code",
   "execution_count": null,
   "metadata": {},
   "outputs": [],
   "source": [
    "import json\n",
    "import os\n",
    "\n",
    "from pertdata import PertDataset, cache_dir_path, datasets"
   ]
  },
  {
   "cell_type": "markdown",
   "metadata": {},
   "source": [
    "If the cache directory exists, rename it:"
   ]
  },
  {
   "cell_type": "code",
   "execution_count": null,
   "metadata": {},
   "outputs": [],
   "source": [
    "cache_dir_path = cache_dir_path()\n",
    "if os.path.exists(cache_dir_path):\n",
    "    os.rename(src=cache_dir_path, dst=os.path.join(f\"{cache_dir_path}.bak\"))"
   ]
  },
  {
   "cell_type": "markdown",
   "metadata": {},
   "source": [
    "Make a `PertDataset` object for every available dataset.\n",
    "Execute the following cell twice to check if the cache functionality works correctly."
   ]
  },
  {
   "cell_type": "code",
   "execution_count": null,
   "metadata": {},
   "outputs": [],
   "source": [
    "datasets_dict = datasets()\n",
    "for current_dataset in datasets_dict.keys():\n",
    "    print(f\"Details for '{current_dataset}':\")\n",
    "    print(json.dumps(datasets_dict[current_dataset], indent=2))\n",
    "    pdata = PertDataset(name=current_dataset)\n",
    "    print(pdata)\n",
    "    print()"
   ]
  }
 ],
 "metadata": {
  "kernelspec": {
   "display_name": "Python 3",
   "language": "python",
   "name": "python3"
  },
  "language_info": {
   "codemirror_mode": {
    "name": "ipython",
    "version": 3
   },
   "file_extension": ".py",
   "mimetype": "text/x-python",
   "name": "python",
   "nbconvert_exporter": "python",
   "pygments_lexer": "ipython3",
   "version": "3.12.7"
  }
 },
 "nbformat": 4,
 "nbformat_minor": 2
}
