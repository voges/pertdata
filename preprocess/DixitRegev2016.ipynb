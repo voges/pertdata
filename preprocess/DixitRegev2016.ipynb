{
 "cells": [
  {
   "cell_type": "code",
   "execution_count": 1,
   "metadata": {},
   "outputs": [],
   "source": [
    "import os\n",
    "import sys\n",
    "\n",
    "import anndata as ad\n",
    "import pandas as pd\n",
    "import scanpy as sc"
   ]
  },
  {
   "cell_type": "markdown",
   "metadata": {},
   "source": [
    "Make directories:"
   ]
  },
  {
   "cell_type": "code",
   "execution_count": null,
   "metadata": {},
   "outputs": [],
   "source": [
    "dataset_name = \"DixitRegev2016\"\n",
    "dataset_dir_path = dataset_name\n",
    "raw_dir_path = os.path.join(dataset_dir_path, \"raw\")\n",
    "processed_dir_path = os.path.join(dataset_dir_path, \"processed\")\n",
    "\n",
    "os.makedirs(name=dataset_dir_path)\n",
    "os.makedirs(name=raw_dir_path)\n",
    "os.makedirs(name=processed_dir_path)"
   ]
  },
  {
   "cell_type": "markdown",
   "metadata": {},
   "source": [
    "Download the raw data:"
   ]
  },
  {
   "cell_type": "code",
   "execution_count": null,
   "metadata": {},
   "outputs": [],
   "source": [
    "download_and_extract_tar_file(\n",
    "        url=\"https://www.ncbi.nlm.nih.gov/geo/download/?acc=GSE90063&format=file\",\n",
    "        dir_path=dir_path,\n",
    "    )"
   ]
  }
 ],
 "metadata": {
  "kernelspec": {
   "display_name": "Python 3",
   "language": "python",
   "name": "python3"
  },
  "language_info": {
   "codemirror_mode": {
    "name": "ipython",
    "version": 3
   },
   "file_extension": ".py",
   "mimetype": "text/x-python",
   "name": "python",
   "nbconvert_exporter": "python",
   "pygments_lexer": "ipython3",
   "version": "3.12.7"
  }
 },
 "nbformat": 4,
 "nbformat_minor": 2
}
